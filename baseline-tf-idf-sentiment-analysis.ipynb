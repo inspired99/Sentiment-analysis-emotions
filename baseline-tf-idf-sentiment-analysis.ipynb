{
 "cells": [
  {
   "cell_type": "markdown",
   "id": "b2170a83",
   "metadata": {
    "papermill": {
     "duration": 0.009844,
     "end_time": "2023-01-07T21:15:28.619504",
     "exception": false,
     "start_time": "2023-01-07T21:15:28.609660",
     "status": "completed"
    },
    "tags": []
   },
   "source": [
    "## Introduction"
   ]
  },
  {
   "cell_type": "markdown",
   "id": "c7a60de7",
   "metadata": {
    "papermill": {
     "duration": 0.008526,
     "end_time": "2023-01-07T21:15:28.637034",
     "exception": false,
     "start_time": "2023-01-07T21:15:28.628508",
     "status": "completed"
    },
    "tags": []
   },
   "source": [
    "One of possible baseline approaches to solving NLP tasks like sentiment analysis is constructing bag of words with tf-idf vectorizing approach and then classifier/regression model"
   ]
  },
  {
   "cell_type": "markdown",
   "id": "c8f7c84f",
   "metadata": {
    "papermill": {
     "duration": 0.00814,
     "end_time": "2023-01-07T21:15:28.653668",
     "exception": false,
     "start_time": "2023-01-07T21:15:28.645528",
     "status": "completed"
    },
    "tags": []
   },
   "source": [
    "## Preparation"
   ]
  },
  {
   "cell_type": "code",
   "execution_count": 1,
   "id": "c1f11a8a",
   "metadata": {
    "execution": {
     "iopub.execute_input": "2023-01-07T21:15:28.674081Z",
     "iopub.status.busy": "2023-01-07T21:15:28.673608Z",
     "iopub.status.idle": "2023-01-07T21:15:45.249382Z",
     "shell.execute_reply": "2023-01-07T21:15:45.247697Z"
    },
    "papermill": {
     "duration": 16.590344,
     "end_time": "2023-01-07T21:15:45.252926",
     "exception": false,
     "start_time": "2023-01-07T21:15:28.662582",
     "status": "completed"
    },
    "tags": []
   },
   "outputs": [
    {
     "name": "stdout",
     "output_type": "stream",
     "text": [
      "\u001b[33mWARNING: Running pip as the 'root' user can result in broken permissions and conflicting behaviour with the system package manager. It is recommended to use a virtual environment instead: https://pip.pypa.io/warnings/venv\u001b[0m\u001b[33m\r\n",
      "\u001b[0m"
     ]
    }
   ],
   "source": [
    "!pip install lets_plot pactools -q"
   ]
  },
  {
   "cell_type": "code",
   "execution_count": 2,
   "id": "7efa0177",
   "metadata": {
    "execution": {
     "iopub.execute_input": "2023-01-07T21:15:45.276396Z",
     "iopub.status.busy": "2023-01-07T21:15:45.275920Z",
     "iopub.status.idle": "2023-01-07T21:15:47.579603Z",
     "shell.execute_reply": "2023-01-07T21:15:47.577880Z"
    },
    "papermill": {
     "duration": 2.31882,
     "end_time": "2023-01-07T21:15:47.583392",
     "exception": false,
     "start_time": "2023-01-07T21:15:45.264572",
     "status": "completed"
    },
    "tags": []
   },
   "outputs": [],
   "source": [
    "from lets_plot import *\n",
    "from sklearn.model_selection import train_test_split\n",
    "from sklearn.metrics import accuracy_score, f1_score\n",
    "from sklearn.preprocessing import LabelEncoder\n",
    "from nltk.corpus import stopwords\n",
    "from sklearn.feature_extraction.text import CountVectorizer, TfidfTransformer, TfidfVectorizer\n",
    "from nltk.stem import PorterStemmer\n",
    "from sklearn.model_selection import GridSearchCV\n",
    "from sklearn.pipeline import Pipeline\n",
    "from sklearn.linear_model import LogisticRegression\n",
    "\n",
    "import matplotlib.pyplot as plt \n",
    "import pandas as pd\n",
    "import numpy as np\n",
    "import os\n",
    "import pickle\n",
    "import time\n",
    "import warnings\n",
    "\n",
    "warnings.filterwarnings('ignore')"
   ]
  },
  {
   "cell_type": "code",
   "execution_count": 3,
   "id": "57b4514e",
   "metadata": {
    "execution": {
     "iopub.execute_input": "2023-01-07T21:15:47.606291Z",
     "iopub.status.busy": "2023-01-07T21:15:47.605837Z",
     "iopub.status.idle": "2023-01-07T21:15:47.613240Z",
     "shell.execute_reply": "2023-01-07T21:15:47.610702Z"
    },
    "papermill": {
     "duration": 0.022285,
     "end_time": "2023-01-07T21:15:47.616368",
     "exception": false,
     "start_time": "2023-01-07T21:15:47.594083",
     "status": "completed"
    },
    "tags": []
   },
   "outputs": [],
   "source": [
    "seed = 42"
   ]
  },
  {
   "cell_type": "code",
   "execution_count": 4,
   "id": "f04ebe71",
   "metadata": {
    "execution": {
     "iopub.execute_input": "2023-01-07T21:15:47.637660Z",
     "iopub.status.busy": "2023-01-07T21:15:47.635846Z",
     "iopub.status.idle": "2023-01-07T21:15:47.646590Z",
     "shell.execute_reply": "2023-01-07T21:15:47.645074Z"
    },
    "papermill": {
     "duration": 0.024314,
     "end_time": "2023-01-07T21:15:47.649663",
     "exception": false,
     "start_time": "2023-01-07T21:15:47.625349",
     "status": "completed"
    },
    "tags": []
   },
   "outputs": [
    {
     "data": {
      "text/html": [
       "\n",
       "            <div id=\"7RvHk0\"></div>\n",
       "            <script type=\"text/javascript\" data-lets-plot-script=\"library\">\n",
       "                if(!window.letsPlotCallQueue) {\n",
       "                    window.letsPlotCallQueue = [];\n",
       "                }; \n",
       "                window.letsPlotCall = function(f) {\n",
       "                    window.letsPlotCallQueue.push(f);\n",
       "                };\n",
       "                (function() {\n",
       "                    var script = document.createElement(\"script\");\n",
       "                    script.type = \"text/javascript\";\n",
       "                    script.src = \"https://cdn.jsdelivr.net/gh/JetBrains/lets-plot@v3.0.0/js-package/distr/lets-plot.min.js\";\n",
       "                    script.onload = function() {\n",
       "                        window.letsPlotCall = function(f) {f();};\n",
       "                        window.letsPlotCallQueue.forEach(function(f) {f();});\n",
       "                        window.letsPlotCallQueue = [];\n",
       "                        \n",
       "                    };\n",
       "                    script.onerror = function(event) {\n",
       "                        window.letsPlotCall = function(f) {};    // noop\n",
       "                        window.letsPlotCallQueue = [];\n",
       "                        var div = document.createElement(\"div\");\n",
       "                        div.style.color = 'darkred';\n",
       "                        div.textContent = 'Error loading Lets-Plot JS';\n",
       "                        document.getElementById(\"7RvHk0\").appendChild(div);\n",
       "                    };\n",
       "                    var e = document.getElementById(\"7RvHk0\");\n",
       "                    e.appendChild(script);\n",
       "                })()\n",
       "            </script>\n",
       "            "
      ]
     },
     "metadata": {},
     "output_type": "display_data"
    }
   ],
   "source": [
    "LetsPlot.setup_html()"
   ]
  },
  {
   "cell_type": "markdown",
   "id": "24aee77c",
   "metadata": {
    "papermill": {
     "duration": 0.009246,
     "end_time": "2023-01-07T21:15:47.668940",
     "exception": false,
     "start_time": "2023-01-07T21:15:47.659694",
     "status": "completed"
    },
    "tags": []
   },
   "source": [
    "## Data Preprocessing"
   ]
  },
  {
   "cell_type": "code",
   "execution_count": 5,
   "id": "443a0f4c",
   "metadata": {
    "execution": {
     "iopub.execute_input": "2023-01-07T21:15:47.688923Z",
     "iopub.status.busy": "2023-01-07T21:15:47.688443Z",
     "iopub.status.idle": "2023-01-07T21:15:47.695650Z",
     "shell.execute_reply": "2023-01-07T21:15:47.693662Z"
    },
    "papermill": {
     "duration": 0.021253,
     "end_time": "2023-01-07T21:15:47.699073",
     "exception": false,
     "start_time": "2023-01-07T21:15:47.677820",
     "status": "completed"
    },
    "tags": []
   },
   "outputs": [],
   "source": [
    "path_to_data_pkl = '/kaggle/input/emotions/emotions_data.pkl'"
   ]
  },
  {
   "cell_type": "code",
   "execution_count": 6,
   "id": "ef1ab32a",
   "metadata": {
    "execution": {
     "iopub.execute_input": "2023-01-07T21:15:47.720782Z",
     "iopub.status.busy": "2023-01-07T21:15:47.720282Z",
     "iopub.status.idle": "2023-01-07T21:15:48.389028Z",
     "shell.execute_reply": "2023-01-07T21:15:48.387776Z"
    },
    "papermill": {
     "duration": 0.682211,
     "end_time": "2023-01-07T21:15:48.391689",
     "exception": false,
     "start_time": "2023-01-07T21:15:47.709478",
     "status": "completed"
    },
    "tags": []
   },
   "outputs": [
    {
     "name": "stdout",
     "output_type": "stream",
     "text": [
      "Got data of shape : (416809, 2)\n"
     ]
    }
   ],
   "source": [
    "with open(path_to_data_pkl, 'rb') as file:\n",
    "    data = pickle.load(file)\n",
    "    print(f'Got data of shape : {data.shape}')"
   ]
  },
  {
   "cell_type": "code",
   "execution_count": 7,
   "id": "6b37b161",
   "metadata": {
    "execution": {
     "iopub.execute_input": "2023-01-07T21:15:48.414475Z",
     "iopub.status.busy": "2023-01-07T21:15:48.413766Z",
     "iopub.status.idle": "2023-01-07T21:15:48.445984Z",
     "shell.execute_reply": "2023-01-07T21:15:48.444904Z"
    },
    "papermill": {
     "duration": 0.047031,
     "end_time": "2023-01-07T21:15:48.448811",
     "exception": false,
     "start_time": "2023-01-07T21:15:48.401780",
     "status": "completed"
    },
    "tags": []
   },
   "outputs": [
    {
     "data": {
      "text/html": [
       "<div>\n",
       "<style scoped>\n",
       "    .dataframe tbody tr th:only-of-type {\n",
       "        vertical-align: middle;\n",
       "    }\n",
       "\n",
       "    .dataframe tbody tr th {\n",
       "        vertical-align: top;\n",
       "    }\n",
       "\n",
       "    .dataframe thead th {\n",
       "        text-align: right;\n",
       "    }\n",
       "</style>\n",
       "<table border=\"1\" class=\"dataframe\">\n",
       "  <thead>\n",
       "    <tr style=\"text-align: right;\">\n",
       "      <th></th>\n",
       "      <th>text</th>\n",
       "      <th>label</th>\n",
       "    </tr>\n",
       "  </thead>\n",
       "  <tbody>\n",
       "    <tr>\n",
       "      <th>27383</th>\n",
       "      <td>i feel awful about it too because it s my job ...</td>\n",
       "      <td>sadness</td>\n",
       "    </tr>\n",
       "    <tr>\n",
       "      <th>110083</th>\n",
       "      <td>im alone i feel awful</td>\n",
       "      <td>sadness</td>\n",
       "    </tr>\n",
       "    <tr>\n",
       "      <th>140764</th>\n",
       "      <td>ive probably mentioned this before but i reall...</td>\n",
       "      <td>joy</td>\n",
       "    </tr>\n",
       "    <tr>\n",
       "      <th>100071</th>\n",
       "      <td>i was feeling a little low few days back</td>\n",
       "      <td>sadness</td>\n",
       "    </tr>\n",
       "    <tr>\n",
       "      <th>2837</th>\n",
       "      <td>i beleive that i am much more sensitive to oth...</td>\n",
       "      <td>love</td>\n",
       "    </tr>\n",
       "  </tbody>\n",
       "</table>\n",
       "</div>"
      ],
      "text/plain": [
       "                                                     text    label\n",
       "27383   i feel awful about it too because it s my job ...  sadness\n",
       "110083                              im alone i feel awful  sadness\n",
       "140764  ive probably mentioned this before but i reall...      joy\n",
       "100071           i was feeling a little low few days back  sadness\n",
       "2837    i beleive that i am much more sensitive to oth...     love"
      ]
     },
     "execution_count": 7,
     "metadata": {},
     "output_type": "execute_result"
    }
   ],
   "source": [
    "data.rename(columns={'emotions' : 'label'}, inplace=True)\n",
    "data.head()"
   ]
  },
  {
   "cell_type": "code",
   "execution_count": 8,
   "id": "1701806d",
   "metadata": {
    "execution": {
     "iopub.execute_input": "2023-01-07T21:15:48.472135Z",
     "iopub.status.busy": "2023-01-07T21:15:48.471175Z",
     "iopub.status.idle": "2023-01-07T21:15:48.530173Z",
     "shell.execute_reply": "2023-01-07T21:15:48.528093Z"
    },
    "papermill": {
     "duration": 0.074065,
     "end_time": "2023-01-07T21:15:48.533897",
     "exception": false,
     "start_time": "2023-01-07T21:15:48.459832",
     "status": "completed"
    },
    "tags": []
   },
   "outputs": [
    {
     "data": {
      "text/plain": [
       "text     0\n",
       "label    0\n",
       "dtype: int64"
      ]
     },
     "execution_count": 8,
     "metadata": {},
     "output_type": "execute_result"
    }
   ],
   "source": [
    "data.isna().sum()"
   ]
  },
  {
   "cell_type": "code",
   "execution_count": 9,
   "id": "0fa3cd8e",
   "metadata": {
    "execution": {
     "iopub.execute_input": "2023-01-07T21:15:48.557090Z",
     "iopub.status.busy": "2023-01-07T21:15:48.556625Z",
     "iopub.status.idle": "2023-01-07T21:15:48.591870Z",
     "shell.execute_reply": "2023-01-07T21:15:48.590092Z"
    },
    "papermill": {
     "duration": 0.052126,
     "end_time": "2023-01-07T21:15:48.596000",
     "exception": false,
     "start_time": "2023-01-07T21:15:48.543874",
     "status": "completed"
    },
    "tags": []
   },
   "outputs": [
    {
     "data": {
      "text/plain": [
       "joy         141067\n",
       "sadness     121187\n",
       "anger        57317\n",
       "fear         47712\n",
       "love         34554\n",
       "surprise     14972\n",
       "Name: label, dtype: int64"
      ]
     },
     "execution_count": 9,
     "metadata": {},
     "output_type": "execute_result"
    }
   ],
   "source": [
    "frequency = data.label.value_counts()\n",
    "frequency"
   ]
  },
  {
   "cell_type": "code",
   "execution_count": 10,
   "id": "35eb5724",
   "metadata": {
    "execution": {
     "iopub.execute_input": "2023-01-07T21:15:48.620186Z",
     "iopub.status.busy": "2023-01-07T21:15:48.619717Z",
     "iopub.status.idle": "2023-01-07T21:15:48.627756Z",
     "shell.execute_reply": "2023-01-07T21:15:48.625938Z"
    },
    "papermill": {
     "duration": 0.023733,
     "end_time": "2023-01-07T21:15:48.630917",
     "exception": false,
     "start_time": "2023-01-07T21:15:48.607184",
     "status": "completed"
    },
    "tags": []
   },
   "outputs": [],
   "source": [
    "frequency = pd.DataFrame({\n",
    "    'Labels' : frequency.index,\n",
    "    'Total' : frequency.values\n",
    "})"
   ]
  },
  {
   "cell_type": "code",
   "execution_count": 11,
   "id": "aee82534",
   "metadata": {
    "execution": {
     "iopub.execute_input": "2023-01-07T21:15:48.655448Z",
     "iopub.status.busy": "2023-01-07T21:15:48.654930Z",
     "iopub.status.idle": "2023-01-07T21:15:49.477006Z",
     "shell.execute_reply": "2023-01-07T21:15:49.475169Z"
    },
    "papermill": {
     "duration": 0.838016,
     "end_time": "2023-01-07T21:15:49.480056",
     "exception": false,
     "start_time": "2023-01-07T21:15:48.642040",
     "status": "completed"
    },
    "tags": []
   },
   "outputs": [
    {
     "data": {
      "text/html": [
       "   <div id=\"tEjCrX\"></div>\n",
       "   <script type=\"text/javascript\" data-lets-plot-script=\"plot\">\n",
       "       (function() {\n",
       "           var plotSpec={\n",
       "\"data\":{\n",
       "},\n",
       "\"mapping\":{\n",
       "\"x\":\"x\",\n",
       "\"weight\":\"weight\",\n",
       "\"fill\":\"fill\"\n",
       "},\n",
       "\"data_meta\":{\n",
       "},\n",
       "\"kind\":\"plot\",\n",
       "\"scales\":[{\n",
       "\"name\":\"Label\",\n",
       "\"aesthetic\":\"x\"\n",
       "},{\n",
       "\"name\":\"Times Occured\",\n",
       "\"aesthetic\":\"y\"\n",
       "}],\n",
       "\"layers\":[{\n",
       "\"geom\":\"bar\",\n",
       "\"mapping\":{\n",
       "},\n",
       "\"data_meta\":{\n",
       "},\n",
       "\"data\":{\n",
       "\"..count..\":[141067.0,121187.0,57317.0,47712.0,34554.0,14972.0],\n",
       "\"x\":[\"joy\",\"sadness\",\"anger\",\"fear\",\"love\",\"surprise\"],\n",
       "\"fill\":[\"joy\",\"sadness\",\"anger\",\"fear\",\"love\",\"surprise\"]\n",
       "}\n",
       "}],\n",
       "\"metainfo_list\":[]\n",
       "};\n",
       "           var plotContainer = document.getElementById(\"tEjCrX\");\n",
       "           window.letsPlotCall(function() {{\n",
       "               LetsPlot.buildPlotFromProcessedSpecs(plotSpec, -1, -1, plotContainer);\n",
       "           }});\n",
       "       })();    \n",
       "   </script>"
      ],
      "text/plain": [
       "<lets_plot.plot.core.PlotSpec at 0x7fa9ec3dda50>"
      ]
     },
     "execution_count": 11,
     "metadata": {},
     "output_type": "execute_result"
    }
   ],
   "source": [
    "ggplot(frequency, aes(x=frequency.Labels, weight=frequency.Total, fill=frequency.Labels)) + \\\n",
    "    geom_bar() + labs(x='Label', y='Times Occured')"
   ]
  },
  {
   "cell_type": "markdown",
   "id": "424c4ec0",
   "metadata": {
    "papermill": {
     "duration": 0.009901,
     "end_time": "2023-01-07T21:15:49.500415",
     "exception": false,
     "start_time": "2023-01-07T21:15:49.490514",
     "status": "completed"
    },
    "tags": []
   },
   "source": [
    "We got text messages and 6 classes corresponding to them."
   ]
  },
  {
   "cell_type": "code",
   "execution_count": 12,
   "id": "e9882344",
   "metadata": {
    "execution": {
     "iopub.execute_input": "2023-01-07T21:15:49.523474Z",
     "iopub.status.busy": "2023-01-07T21:15:49.522961Z",
     "iopub.status.idle": "2023-01-07T21:15:49.642659Z",
     "shell.execute_reply": "2023-01-07T21:15:49.641112Z"
    },
    "papermill": {
     "duration": 0.135538,
     "end_time": "2023-01-07T21:15:49.646196",
     "exception": false,
     "start_time": "2023-01-07T21:15:49.510658",
     "status": "completed"
    },
    "tags": []
   },
   "outputs": [],
   "source": [
    "label_encoder = LabelEncoder()\n",
    "labels_data = label_encoder.fit_transform(data['label'].values.reshape(-1, 1)).astype(np.uint8)"
   ]
  },
  {
   "cell_type": "code",
   "execution_count": 13,
   "id": "2f178266",
   "metadata": {
    "execution": {
     "iopub.execute_input": "2023-01-07T21:15:49.670471Z",
     "iopub.status.busy": "2023-01-07T21:15:49.669944Z",
     "iopub.status.idle": "2023-01-07T21:15:49.683938Z",
     "shell.execute_reply": "2023-01-07T21:15:49.682513Z"
    },
    "papermill": {
     "duration": 0.029569,
     "end_time": "2023-01-07T21:15:49.686831",
     "exception": false,
     "start_time": "2023-01-07T21:15:49.657262",
     "status": "completed"
    },
    "tags": []
   },
   "outputs": [],
   "source": [
    "data['label'] = labels_data"
   ]
  },
  {
   "cell_type": "markdown",
   "id": "65fc8ef4",
   "metadata": {
    "papermill": {
     "duration": 0.009138,
     "end_time": "2023-01-07T21:15:49.706840",
     "exception": false,
     "start_time": "2023-01-07T21:15:49.697702",
     "status": "completed"
    },
    "tags": []
   },
   "source": [
    "We got text messages in english and to begin with we need to make it lowercase, remove stop words and extract tokens' count features"
   ]
  },
  {
   "cell_type": "code",
   "execution_count": 14,
   "id": "8f152e8b",
   "metadata": {
    "execution": {
     "iopub.execute_input": "2023-01-07T21:15:49.729433Z",
     "iopub.status.busy": "2023-01-07T21:15:49.728985Z",
     "iopub.status.idle": "2023-01-07T21:35:14.571206Z",
     "shell.execute_reply": "2023-01-07T21:35:14.569100Z"
    },
    "papermill": {
     "duration": 1164.85825,
     "end_time": "2023-01-07T21:35:14.574971",
     "exception": false,
     "start_time": "2023-01-07T21:15:49.716721",
     "status": "completed"
    },
    "tags": []
   },
   "outputs": [],
   "source": [
    "data['text'] = data['text'].str.lower()\n",
    "\n",
    "data['text'] = data['text'].apply(lambda x: ' '.join([word for word in x.split() if word not in (stopwords.words('english'))]))"
   ]
  },
  {
   "cell_type": "code",
   "execution_count": 15,
   "id": "b5a9194c",
   "metadata": {
    "execution": {
     "iopub.execute_input": "2023-01-07T21:35:14.598080Z",
     "iopub.status.busy": "2023-01-07T21:35:14.597680Z",
     "iopub.status.idle": "2023-01-07T21:35:14.612572Z",
     "shell.execute_reply": "2023-01-07T21:35:14.610884Z"
    },
    "papermill": {
     "duration": 0.028863,
     "end_time": "2023-01-07T21:35:14.615323",
     "exception": false,
     "start_time": "2023-01-07T21:35:14.586460",
     "status": "completed"
    },
    "tags": []
   },
   "outputs": [
    {
     "data": {
      "text/html": [
       "<div>\n",
       "<style scoped>\n",
       "    .dataframe tbody tr th:only-of-type {\n",
       "        vertical-align: middle;\n",
       "    }\n",
       "\n",
       "    .dataframe tbody tr th {\n",
       "        vertical-align: top;\n",
       "    }\n",
       "\n",
       "    .dataframe thead th {\n",
       "        text-align: right;\n",
       "    }\n",
       "</style>\n",
       "<table border=\"1\" class=\"dataframe\">\n",
       "  <thead>\n",
       "    <tr style=\"text-align: right;\">\n",
       "      <th></th>\n",
       "      <th>text</th>\n",
       "      <th>label</th>\n",
       "    </tr>\n",
       "  </thead>\n",
       "  <tbody>\n",
       "    <tr>\n",
       "      <th>27383</th>\n",
       "      <td>feel awful job get position succeed happen</td>\n",
       "      <td>4</td>\n",
       "    </tr>\n",
       "    <tr>\n",
       "      <th>110083</th>\n",
       "      <td>im alone feel awful</td>\n",
       "      <td>4</td>\n",
       "    </tr>\n",
       "    <tr>\n",
       "      <th>140764</th>\n",
       "      <td>ive probably mentioned really feel proud actua...</td>\n",
       "      <td>2</td>\n",
       "    </tr>\n",
       "    <tr>\n",
       "      <th>100071</th>\n",
       "      <td>feeling little low days back</td>\n",
       "      <td>4</td>\n",
       "    </tr>\n",
       "    <tr>\n",
       "      <th>2837</th>\n",
       "      <td>beleive much sensitive peoples feelings tend c...</td>\n",
       "      <td>3</td>\n",
       "    </tr>\n",
       "  </tbody>\n",
       "</table>\n",
       "</div>"
      ],
      "text/plain": [
       "                                                     text  label\n",
       "27383          feel awful job get position succeed happen      4\n",
       "110083                                im alone feel awful      4\n",
       "140764  ive probably mentioned really feel proud actua...      2\n",
       "100071                       feeling little low days back      4\n",
       "2837    beleive much sensitive peoples feelings tend c...      3"
      ]
     },
     "execution_count": 15,
     "metadata": {},
     "output_type": "execute_result"
    }
   ],
   "source": [
    "data.head()"
   ]
  },
  {
   "cell_type": "markdown",
   "id": "eb6eaf89",
   "metadata": {
    "papermill": {
     "duration": 0.010209,
     "end_time": "2023-01-07T21:35:14.636172",
     "exception": false,
     "start_time": "2023-01-07T21:35:14.625963",
     "status": "completed"
    },
    "tags": []
   },
   "source": [
    "## TF-IDF"
   ]
  },
  {
   "cell_type": "code",
   "execution_count": 16,
   "id": "29be0c45",
   "metadata": {
    "execution": {
     "iopub.execute_input": "2023-01-07T21:35:14.658407Z",
     "iopub.status.busy": "2023-01-07T21:35:14.658008Z",
     "iopub.status.idle": "2023-01-07T21:35:19.968788Z",
     "shell.execute_reply": "2023-01-07T21:35:19.967548Z"
    },
    "papermill": {
     "duration": 5.325757,
     "end_time": "2023-01-07T21:35:19.971762",
     "exception": false,
     "start_time": "2023-01-07T21:35:14.646005",
     "status": "completed"
    },
    "tags": []
   },
   "outputs": [],
   "source": [
    "counts = CountVectorizer()\n",
    "\n",
    "bag_of_words = counts.fit_transform(data['text'])"
   ]
  },
  {
   "cell_type": "markdown",
   "id": "1ad41a78",
   "metadata": {
    "papermill": {
     "duration": 0.00931,
     "end_time": "2023-01-07T21:35:19.991208",
     "exception": false,
     "start_time": "2023-01-07T21:35:19.981898",
     "status": "completed"
    },
    "tags": []
   },
   "source": [
    "Now we are calculating tf-idf metrics, we also add `l2` regularization for future better performance of linear models"
   ]
  },
  {
   "cell_type": "code",
   "execution_count": 17,
   "id": "22ef3bcf",
   "metadata": {
    "execution": {
     "iopub.execute_input": "2023-01-07T21:35:20.012114Z",
     "iopub.status.busy": "2023-01-07T21:35:20.011692Z",
     "iopub.status.idle": "2023-01-07T21:35:20.432009Z",
     "shell.execute_reply": "2023-01-07T21:35:20.430809Z"
    },
    "papermill": {
     "duration": 0.433851,
     "end_time": "2023-01-07T21:35:20.434690",
     "exception": false,
     "start_time": "2023-01-07T21:35:20.000839",
     "status": "completed"
    },
    "tags": []
   },
   "outputs": [
    {
     "data": {
      "text/plain": [
       "<416809x75132 sparse matrix of type '<class 'numpy.float64'>'\n",
       "\twith 3772102 stored elements in Compressed Sparse Row format>"
      ]
     },
     "execution_count": 17,
     "metadata": {},
     "output_type": "execute_result"
    }
   ],
   "source": [
    "tf_idf = TfidfTransformer(use_idf=True,\n",
    "                         norm='l2',\n",
    "                         smooth_idf=True)\n",
    "\n",
    "tf_idf.fit_transform(bag_of_words)"
   ]
  },
  {
   "cell_type": "markdown",
   "id": "a606601e",
   "metadata": {
    "papermill": {
     "duration": 0.009363,
     "end_time": "2023-01-07T21:35:20.455089",
     "exception": false,
     "start_time": "2023-01-07T21:35:20.445726",
     "status": "completed"
    },
    "tags": []
   },
   "source": [
    "We are also going to use simple tokenizer with stemming - reducing words to their root "
   ]
  },
  {
   "cell_type": "code",
   "execution_count": 18,
   "id": "e790a731",
   "metadata": {
    "execution": {
     "iopub.execute_input": "2023-01-07T21:35:20.477836Z",
     "iopub.status.busy": "2023-01-07T21:35:20.477167Z",
     "iopub.status.idle": "2023-01-07T21:35:20.482175Z",
     "shell.execute_reply": "2023-01-07T21:35:20.481190Z"
    },
    "papermill": {
     "duration": 0.018954,
     "end_time": "2023-01-07T21:35:20.484839",
     "exception": false,
     "start_time": "2023-01-07T21:35:20.465885",
     "status": "completed"
    },
    "tags": []
   },
   "outputs": [],
   "source": [
    "def tokenizer(text):\n",
    "    stemming = PorterStemmer()\n",
    "    tokens = [stemming.stem(word) for word in text.split()]\n",
    "    return tokens"
   ]
  },
  {
   "cell_type": "markdown",
   "id": "0e5ceb20",
   "metadata": {
    "papermill": {
     "duration": 0.009228,
     "end_time": "2023-01-07T21:35:20.503951",
     "exception": false,
     "start_time": "2023-01-07T21:35:20.494723",
     "status": "completed"
    },
    "tags": []
   },
   "source": [
    "## Training & Cross-Validation"
   ]
  },
  {
   "cell_type": "code",
   "execution_count": 19,
   "id": "461762be",
   "metadata": {
    "execution": {
     "iopub.execute_input": "2023-01-07T21:35:20.526508Z",
     "iopub.status.busy": "2023-01-07T21:35:20.525872Z",
     "iopub.status.idle": "2023-01-07T21:35:20.530445Z",
     "shell.execute_reply": "2023-01-07T21:35:20.529253Z"
    },
    "papermill": {
     "duration": 0.018497,
     "end_time": "2023-01-07T21:35:20.533266",
     "exception": false,
     "start_time": "2023-01-07T21:35:20.514769",
     "status": "completed"
    },
    "tags": []
   },
   "outputs": [],
   "source": [
    "TEST_SIZE = 0.2"
   ]
  },
  {
   "cell_type": "code",
   "execution_count": 20,
   "id": "9b43a622",
   "metadata": {
    "execution": {
     "iopub.execute_input": "2023-01-07T21:35:20.554377Z",
     "iopub.status.busy": "2023-01-07T21:35:20.553971Z",
     "iopub.status.idle": "2023-01-07T21:35:20.663976Z",
     "shell.execute_reply": "2023-01-07T21:35:20.661906Z"
    },
    "papermill": {
     "duration": 0.124222,
     "end_time": "2023-01-07T21:35:20.667169",
     "exception": false,
     "start_time": "2023-01-07T21:35:20.542947",
     "status": "completed"
    },
    "tags": []
   },
   "outputs": [],
   "source": [
    "X_train, X_test, y_train, y_test = train_test_split(data.text, data.drop(columns=['text']), test_size=TEST_SIZE, random_state=seed)"
   ]
  },
  {
   "cell_type": "markdown",
   "id": "9cd26738",
   "metadata": {
    "papermill": {
     "duration": 0.011176,
     "end_time": "2023-01-07T21:35:20.688880",
     "exception": false,
     "start_time": "2023-01-07T21:35:20.677704",
     "status": "completed"
    },
    "tags": []
   },
   "source": [
    "Next we'll do grid search over parameters for our logistic regression model, this model was chosen because it's quite fast and stable for predicting probability of classes"
   ]
  },
  {
   "cell_type": "code",
   "execution_count": 21,
   "id": "29a093d7",
   "metadata": {
    "execution": {
     "iopub.execute_input": "2023-01-07T21:35:20.712259Z",
     "iopub.status.busy": "2023-01-07T21:35:20.711797Z",
     "iopub.status.idle": "2023-01-07T21:35:20.721160Z",
     "shell.execute_reply": "2023-01-07T21:35:20.719659Z"
    },
    "papermill": {
     "duration": 0.024541,
     "end_time": "2023-01-07T21:35:20.723769",
     "exception": false,
     "start_time": "2023-01-07T21:35:20.699228",
     "status": "completed"
    },
    "tags": []
   },
   "outputs": [],
   "source": [
    "tfidf = TfidfVectorizer(strip_accents=None,\n",
    "                        lowercase=False,\n",
    "                        preprocessor=None)\n",
    "\n",
    "param_grid = [{'vect__ngram_range': [(1, 1), (1, 2)],\n",
    "               'vect__tokenizer': [tokenizer],\n",
    "               'clf__penalty': ['l1', 'l2'],\n",
    "               'clf__C': [0.1, 1.0]}\n",
    "              ]\n",
    "\n",
    "lr_tfidf = Pipeline([('vect', tfidf),\n",
    "                     ('clf', LogisticRegression(random_state=seed, multi_class='multinomial', solver='saga'))])\n",
    "\n",
    "gs_lr_tfidf = GridSearchCV(lr_tfidf, param_grid,\n",
    "                           scoring='f1_macro',\n",
    "                           cv=3,\n",
    "                           verbose=5,\n",
    "                           n_jobs=1)"
   ]
  },
  {
   "cell_type": "code",
   "execution_count": 22,
   "id": "d5b0ff5e",
   "metadata": {
    "execution": {
     "iopub.execute_input": "2023-01-07T21:35:20.745917Z",
     "iopub.status.busy": "2023-01-07T21:35:20.745467Z",
     "iopub.status.idle": "2023-01-07T23:16:08.861228Z",
     "shell.execute_reply": "2023-01-07T23:16:08.860262Z"
    },
    "papermill": {
     "duration": 6048.140636,
     "end_time": "2023-01-07T23:16:08.874647",
     "exception": false,
     "start_time": "2023-01-07T21:35:20.734011",
     "status": "completed"
    },
    "tags": []
   },
   "outputs": [
    {
     "name": "stdout",
     "output_type": "stream",
     "text": [
      "Fitting 3 folds for each of 8 candidates, totalling 24 fits\n",
      "[CV 1/3] END clf__C=0.1, clf__penalty=l1, vect__ngram_range=(1, 1), vect__tokenizer=<function tokenizer at 0x7fa9e680ab90>;, score=0.836 total time= 1.9min\n",
      "[CV 2/3] END clf__C=0.1, clf__penalty=l1, vect__ngram_range=(1, 1), vect__tokenizer=<function tokenizer at 0x7fa9e680ab90>;, score=0.834 total time= 1.9min\n",
      "[CV 3/3] END clf__C=0.1, clf__penalty=l1, vect__ngram_range=(1, 1), vect__tokenizer=<function tokenizer at 0x7fa9e680ab90>;, score=0.836 total time= 2.0min\n",
      "[CV 1/3] END clf__C=0.1, clf__penalty=l1, vect__ngram_range=(1, 2), vect__tokenizer=<function tokenizer at 0x7fa9e680ab90>;, score=0.847 total time= 2.3min\n",
      "[CV 2/3] END clf__C=0.1, clf__penalty=l1, vect__ngram_range=(1, 2), vect__tokenizer=<function tokenizer at 0x7fa9e680ab90>;, score=0.846 total time= 2.3min\n",
      "[CV 3/3] END clf__C=0.1, clf__penalty=l1, vect__ngram_range=(1, 2), vect__tokenizer=<function tokenizer at 0x7fa9e680ab90>;, score=0.844 total time= 2.3min\n",
      "[CV 1/3] END clf__C=0.1, clf__penalty=l2, vect__ngram_range=(1, 1), vect__tokenizer=<function tokenizer at 0x7fa9e680ab90>;, score=0.801 total time= 1.7min\n",
      "[CV 2/3] END clf__C=0.1, clf__penalty=l2, vect__ngram_range=(1, 1), vect__tokenizer=<function tokenizer at 0x7fa9e680ab90>;, score=0.798 total time= 1.7min\n",
      "[CV 3/3] END clf__C=0.1, clf__penalty=l2, vect__ngram_range=(1, 1), vect__tokenizer=<function tokenizer at 0x7fa9e680ab90>;, score=0.801 total time= 1.7min\n",
      "[CV 1/3] END clf__C=0.1, clf__penalty=l2, vect__ngram_range=(1, 2), vect__tokenizer=<function tokenizer at 0x7fa9e680ab90>;, score=0.782 total time= 1.9min\n",
      "[CV 2/3] END clf__C=0.1, clf__penalty=l2, vect__ngram_range=(1, 2), vect__tokenizer=<function tokenizer at 0x7fa9e680ab90>;, score=0.781 total time= 1.9min\n",
      "[CV 3/3] END clf__C=0.1, clf__penalty=l2, vect__ngram_range=(1, 2), vect__tokenizer=<function tokenizer at 0x7fa9e680ab90>;, score=0.783 total time= 1.9min\n",
      "[CV 1/3] END clf__C=1.0, clf__penalty=l1, vect__ngram_range=(1, 1), vect__tokenizer=<function tokenizer at 0x7fa9e680ab90>;, score=0.839 total time= 9.1min\n",
      "[CV 2/3] END clf__C=1.0, clf__penalty=l1, vect__ngram_range=(1, 1), vect__tokenizer=<function tokenizer at 0x7fa9e680ab90>;, score=0.839 total time= 7.7min\n",
      "[CV 3/3] END clf__C=1.0, clf__penalty=l1, vect__ngram_range=(1, 1), vect__tokenizer=<function tokenizer at 0x7fa9e680ab90>;, score=0.840 total time= 9.2min\n",
      "[CV 1/3] END clf__C=1.0, clf__penalty=l1, vect__ngram_range=(1, 2), vect__tokenizer=<function tokenizer at 0x7fa9e680ab90>;, score=0.864 total time= 8.4min\n",
      "[CV 2/3] END clf__C=1.0, clf__penalty=l1, vect__ngram_range=(1, 2), vect__tokenizer=<function tokenizer at 0x7fa9e680ab90>;, score=0.865 total time= 8.4min\n",
      "[CV 3/3] END clf__C=1.0, clf__penalty=l1, vect__ngram_range=(1, 2), vect__tokenizer=<function tokenizer at 0x7fa9e680ab90>;, score=0.865 total time= 8.5min\n",
      "[CV 1/3] END clf__C=1.0, clf__penalty=l2, vect__ngram_range=(1, 1), vect__tokenizer=<function tokenizer at 0x7fa9e680ab90>;, score=0.825 total time= 1.7min\n",
      "[CV 2/3] END clf__C=1.0, clf__penalty=l2, vect__ngram_range=(1, 1), vect__tokenizer=<function tokenizer at 0x7fa9e680ab90>;, score=0.823 total time= 1.7min\n",
      "[CV 3/3] END clf__C=1.0, clf__penalty=l2, vect__ngram_range=(1, 1), vect__tokenizer=<function tokenizer at 0x7fa9e680ab90>;, score=0.824 total time= 1.7min\n",
      "[CV 1/3] END clf__C=1.0, clf__penalty=l2, vect__ngram_range=(1, 2), vect__tokenizer=<function tokenizer at 0x7fa9e680ab90>;, score=0.831 total time= 2.0min\n",
      "[CV 2/3] END clf__C=1.0, clf__penalty=l2, vect__ngram_range=(1, 2), vect__tokenizer=<function tokenizer at 0x7fa9e680ab90>;, score=0.831 total time= 2.0min\n",
      "[CV 3/3] END clf__C=1.0, clf__penalty=l2, vect__ngram_range=(1, 2), vect__tokenizer=<function tokenizer at 0x7fa9e680ab90>;, score=0.831 total time= 2.0min\n"
     ]
    },
    {
     "data": {
      "text/plain": [
       "GridSearchCV(cv=3,\n",
       "             estimator=Pipeline(steps=[('vect',\n",
       "                                        TfidfVectorizer(lowercase=False)),\n",
       "                                       ('clf',\n",
       "                                        LogisticRegression(multi_class='multinomial',\n",
       "                                                           random_state=42,\n",
       "                                                           solver='saga'))]),\n",
       "             n_jobs=1,\n",
       "             param_grid=[{'clf__C': [0.1, 1.0], 'clf__penalty': ['l1', 'l2'],\n",
       "                          'vect__ngram_range': [(1, 1), (1, 2)],\n",
       "                          'vect__tokenizer': [<function tokenizer at 0x7fa9e680ab90>]}],\n",
       "             scoring='f1_macro', verbose=5)"
      ]
     },
     "execution_count": 22,
     "metadata": {},
     "output_type": "execute_result"
    }
   ],
   "source": [
    "gs_lr_tfidf.fit(X_train, y_train)"
   ]
  },
  {
   "cell_type": "code",
   "execution_count": 23,
   "id": "a7528eb3",
   "metadata": {
    "execution": {
     "iopub.execute_input": "2023-01-07T23:16:08.899570Z",
     "iopub.status.busy": "2023-01-07T23:16:08.898704Z",
     "iopub.status.idle": "2023-01-07T23:16:08.904407Z",
     "shell.execute_reply": "2023-01-07T23:16:08.903365Z"
    },
    "papermill": {
     "duration": 0.020475,
     "end_time": "2023-01-07T23:16:08.906393",
     "exception": false,
     "start_time": "2023-01-07T23:16:08.885918",
     "status": "completed"
    },
    "tags": []
   },
   "outputs": [
    {
     "name": "stdout",
     "output_type": "stream",
     "text": [
      "Best parameter set: {'clf__C': 1.0, 'clf__penalty': 'l1', 'vect__ngram_range': (1, 2), 'vect__tokenizer': <function tokenizer at 0x7fa9e680ab90>}\n",
      "Best f1_macro: 0.865\n"
     ]
    }
   ],
   "source": [
    "print('Best parameter set: ' + str(gs_lr_tfidf.best_params_))\n",
    "print('Best f1_macro: %.3f' % gs_lr_tfidf.best_score_)"
   ]
  },
  {
   "cell_type": "markdown",
   "id": "ed0f4b8d",
   "metadata": {
    "papermill": {
     "duration": 0.010769,
     "end_time": "2023-01-07T23:16:08.928499",
     "exception": false,
     "start_time": "2023-01-07T23:16:08.917730",
     "status": "completed"
    },
    "tags": []
   },
   "source": [
    "## Evaluating"
   ]
  },
  {
   "cell_type": "markdown",
   "id": "f747d081",
   "metadata": {
    "papermill": {
     "duration": 0.011136,
     "end_time": "2023-01-07T23:16:08.950882",
     "exception": false,
     "start_time": "2023-01-07T23:16:08.939746",
     "status": "completed"
    },
    "tags": []
   },
   "source": [
    "Now let's evaluate our baseline logistic regression model (best estimator in cross validation). Later we will compare accuracy and f1 scores on test data using more complicated model - BERT"
   ]
  },
  {
   "cell_type": "code",
   "execution_count": 24,
   "id": "b255a3e4",
   "metadata": {
    "execution": {
     "iopub.execute_input": "2023-01-07T23:16:08.975919Z",
     "iopub.status.busy": "2023-01-07T23:16:08.975177Z",
     "iopub.status.idle": "2023-01-07T23:16:34.425642Z",
     "shell.execute_reply": "2023-01-07T23:16:34.424399Z"
    },
    "papermill": {
     "duration": 25.466201,
     "end_time": "2023-01-07T23:16:34.428478",
     "exception": false,
     "start_time": "2023-01-07T23:16:08.962277",
     "status": "completed"
    },
    "tags": []
   },
   "outputs": [],
   "source": [
    "log_reg_clf = gs_lr_tfidf.best_estimator_\n",
    "\n",
    "y_pred = log_reg_clf.predict(X_test)"
   ]
  },
  {
   "cell_type": "code",
   "execution_count": 25,
   "id": "f5bac594",
   "metadata": {
    "execution": {
     "iopub.execute_input": "2023-01-07T23:16:34.452451Z",
     "iopub.status.busy": "2023-01-07T23:16:34.452053Z",
     "iopub.status.idle": "2023-01-07T23:16:34.496343Z",
     "shell.execute_reply": "2023-01-07T23:16:34.495210Z"
    },
    "papermill": {
     "duration": 0.059397,
     "end_time": "2023-01-07T23:16:34.499207",
     "exception": false,
     "start_time": "2023-01-07T23:16:34.439810",
     "status": "completed"
    },
    "tags": []
   },
   "outputs": [],
   "source": [
    "test_acc = accuracy_score(y_test, y_pred)\n",
    "test_f1 = f1_score(y_test, y_pred, average='macro')"
   ]
  },
  {
   "cell_type": "code",
   "execution_count": 26,
   "id": "44ac2c0e",
   "metadata": {
    "execution": {
     "iopub.execute_input": "2023-01-07T23:16:34.524651Z",
     "iopub.status.busy": "2023-01-07T23:16:34.523900Z",
     "iopub.status.idle": "2023-01-07T23:16:34.529727Z",
     "shell.execute_reply": "2023-01-07T23:16:34.528654Z"
    },
    "papermill": {
     "duration": 0.02114,
     "end_time": "2023-01-07T23:16:34.532286",
     "exception": false,
     "start_time": "2023-01-07T23:16:34.511146",
     "status": "completed"
    },
    "tags": []
   },
   "outputs": [
    {
     "name": "stdout",
     "output_type": "stream",
     "text": [
      "Test Accuracy : 0.9049327031501163\n",
      "Test F1-Score : 0.8659889474270882\n"
     ]
    }
   ],
   "source": [
    "print(f'Test Accuracy : {test_acc}')\n",
    "print(f'Test F1-Score : {test_f1}')"
   ]
  }
 ],
 "metadata": {
  "kernelspec": {
   "display_name": "Python 3",
   "language": "python",
   "name": "python3"
  },
  "language_info": {
   "codemirror_mode": {
    "name": "ipython",
    "version": 3
   },
   "file_extension": ".py",
   "mimetype": "text/x-python",
   "name": "python",
   "nbconvert_exporter": "python",
   "pygments_lexer": "ipython3",
   "version": "3.7.12"
  },
  "papermill": {
   "default_parameters": {},
   "duration": 7280.800953,
   "end_time": "2023-01-07T23:16:35.679809",
   "environment_variables": {},
   "exception": null,
   "input_path": "__notebook__.ipynb",
   "output_path": "__notebook__.ipynb",
   "parameters": {},
   "start_time": "2023-01-07T21:15:14.878856",
   "version": "2.3.4"
  }
 },
 "nbformat": 4,
 "nbformat_minor": 5
}
